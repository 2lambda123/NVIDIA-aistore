{
 "cells": [
  {
   "cell_type": "code",
   "execution_count": null,
   "metadata": {},
   "outputs": [],
   "source": [
    "# instsall tar2tf module\n",
    "! pip3 install ../"
   ]
  },
  {
   "cell_type": "code",
   "execution_count": null,
   "metadata": {},
   "outputs": [],
   "source": [
    "# list available ais buckets\n",
    "!ais ls ais://"
   ]
  },
  {
   "cell_type": "code",
   "execution_count": null,
   "metadata": {},
   "outputs": [],
   "source": [
    "# list contents of your bucket\n",
    "!ais ls ais://tar-bucket"
   ]
  },
  {
   "cell_type": "code",
   "execution_count": null,
   "metadata": {},
   "outputs": [],
   "source": [
    "import tensorflow as tf\n",
    "from tensorflow import keras\n",
    "from tensorflow.keras import layers\n",
    "\n",
    "from tar2tf import AisDataset\n",
    "from tar2tf.ops import Select, Decode, Convert, Resize"
   ]
  },
  {
   "cell_type": "code",
   "execution_count": null,
   "metadata": {},
   "outputs": [],
   "source": [
    "EPOCHS = 5\n",
    "BATCH_SIZE = 20\n",
    "\n",
    "# ADJUST AisDataset PARAMETERS BELOW\n",
    "\n",
    "BUCKET_NAME = \"tar-bucket\"\n",
    "PROXY_URL = \"http://localhost:8080\"\n",
    "\n",
    "# Create AisDataset.\n",
    "# Values will be extracted from tar-records according to Resize(Convert(Decode(\"jpg\"), tf.float32), (224, 224)) operation,\n",
    "# meaning that bytes under \"jpg\" in tar-record will be decoded as an image, converted to tf.float32 type and then Resized to (224, 224)\n",
    "# Labels will be extracted from tar-records according to Select(\"cls\") operation, meaning that bytes under \"cls\" will be treated as label.\n",
    "ais = AisDataset(BUCKET_NAME, PROXY_URL, Resize(Convert(Decode(\"jpg\"), tf.float32), (224, 224)), Select(\"cls\"))\n",
    "\n",
    "\n",
    "# edit arguments to match your bucket objects\n",
    "train_dataset = ais.load_from_tar(\"train-{0..3}.tar.xz\").shuffle(buffer_size=1024).batch(BATCH_SIZE)\n",
    "test_dataset = ais.load_from_tar(\"train-{4..7}.tar.xz\").batch(BATCH_SIZE)\n",
    "\n",
    "# TRAINING PART BELOW"
   ]
  },
  {
   "cell_type": "code",
   "execution_count": null,
   "metadata": {},
   "outputs": [],
   "source": [
    "inputs = keras.Input(shape=(224, 224, 3), name=\"images\")\n",
    "x = layers.Flatten()(inputs)\n",
    "x = layers.Dense(64, activation=\"relu\", name=\"dense_1\")(x)\n",
    "x = layers.Dense(64, activation=\"relu\", name=\"dense_2\")(x)\n",
    "outputs = layers.Dense(10, name=\"predictions\")(x)\n",
    "model = keras.Model(inputs=inputs, outputs=outputs)\n",
    "\n",
    "model.compile(optimizer=keras.optimizers.Adam(1e-4), loss=keras.losses.mean_squared_error, metrics=[\"acc\"])\n",
    "model.summary()\n",
    "\n",
    "model.fit(train_dataset, epochs=EPOCHS)\n",
    "result = model.evaluate(test_dataset)\n",
    "print(dict(zip(model.metrics_names, result)))\n"
   ]
  }
 ],
 "metadata": {
  "kernelspec": {
   "display_name": "Python 3",
   "language": "python",
   "name": "python3"
  },
  "language_info": {
   "codemirror_mode": {
    "name": "ipython",
    "version": 3
   },
   "file_extension": ".py",
   "mimetype": "text/x-python",
   "name": "python",
   "nbconvert_exporter": "python",
   "pygments_lexer": "ipython3",
   "version": "3.6.9"
  }
 },
 "nbformat": 4,
 "nbformat_minor": 4
}
