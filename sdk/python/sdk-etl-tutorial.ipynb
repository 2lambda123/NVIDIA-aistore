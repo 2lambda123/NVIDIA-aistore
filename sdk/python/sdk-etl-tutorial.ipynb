{
 "cells": [
  {
   "cell_type": "markdown",
   "id": "9566debc",
   "metadata": {},
   "source": [
    "# AIStore Python SDK ETL Tutorial"
   ]
  },
  {
   "cell_type": "markdown",
   "id": "e616503b",
   "metadata": {},
   "source": [
    "### Initialize ETLs\n"
   ]
  },
  {
   "cell_type": "code",
   "execution_count": 2,
   "id": "45d2c741",
   "metadata": {},
   "outputs": [],
   "source": [
    "from aistore import Client\n",
    "from aistore.client.etl_templates import MD5\n",
    "import hashlib\n",
    "\n",
    "# Note: AIS-ETLs require Kubernetes.\n",
    "client = Client(\"http://192.168.49.2:8080\")\n",
    "\n",
    "\n",
    "# ETL w/ Code\n",
    "def transform(input_bytes):\n",
    "    md5 = hashlib.md5()\n",
    "    md5.update(input_bytes)\n",
    "    return md5.hexdigest().encode()\n",
    "\n",
    "\n",
    "client.etl().init_code(transform=transform, etl_id=\"etl-code-demo\")\n",
    "\n",
    "\n",
    "# ETL w/ Spec\n",
    "template = MD5.format(communication_type=\"hpush\")\n",
    "client.etl().init_spec(template=template, etl_id=\"etl-spec-demo\")"
   ]
  },
  {
   "cell_type": "markdown",
   "id": "888ad4ee",
   "metadata": {},
   "source": [
    "### List ETLs"
   ]
  },
  {
   "cell_type": "code",
   "execution_count": 24,
   "id": "4f001731",
   "metadata": {},
   "outputs": [
    {
     "data": {
      "text/plain": [
       "[ETL(id='etl-code-demo', obj_count=0, in_bytes=0, out_bytes=0),\n",
       " ETL(id='etl-spec-demo', obj_count=0, in_bytes=0, out_bytes=0)]"
      ]
     },
     "execution_count": 24,
     "metadata": {},
     "output_type": "execute_result"
    }
   ],
   "source": [
    "# Verify ETLs are running\n",
    "client.etl().list()"
   ]
  },
  {
   "cell_type": "markdown",
   "id": "2a0d8e79",
   "metadata": {},
   "source": [
    "### View ETLs"
   ]
  },
  {
   "cell_type": "code",
   "execution_count": 25,
   "id": "030e8611",
   "metadata": {},
   "outputs": [
    {
     "data": {
      "text/plain": [
       "ETLDetails(id='etl-code-demo', communication='hpush://', timeout='5m', code=b\"\\nimport pickle\\nimport base64\\n_base64code = base64.b64decode('gAWVMwIAAAAAAACMF2Nsb3VkcGlja2xlLmNsb3VkcGlja2xllIwNX2J1aWx0aW5fdHlwZZSTlIwKTGFtYmRhVHlwZZSFlFKUKGgCjAhDb2RlVHlwZZSFlFKUKEsBSwBLAEsCSwNLQ0MedACgAaEAfQF8AaACfAChAQEAfAGgA6EAoAShAFMAlE6FlCiMB2hhc2hsaWKUjANtZDWUjAZ1cGRhdGWUjAloZXhkaWdlc3SUjAZlbmNvZGWUdJSMC2lucHV0X2J5dGVzlGgMhpSMIy90bXAvaXB5a2VybmVsXzM2ODI4NC8zMzI1NTQ4MDYzLnB5lIwJdHJhbnNmb3JtlEsKQwYIAQoBDAGUKSl0lFKUfZQojAtfX3BhY2thZ2VfX5ROjAhfX25hbWVfX5SMCF9fbWFpbl9flHVOTk50lFKUjBxjbG91ZHBpY2tsZS5jbG91ZHBpY2tsZV9mYXN0lIwSX2Z1bmN0aW9uX3NldHN0YXRllJOUaB19lH2UKGgaaBSMDF9fcXVhbG5hbWVfX5RoFIwPX19hbm5vdGF0aW9uc19flH2UjA5fX2t3ZGVmYXVsdHNfX5ROjAxfX2RlZmF1bHRzX1+UTowKX19tb2R1bGVfX5RoG4wHX19kb2NfX5ROjAtfX2Nsb3N1cmVfX5ROjBdfY2xvdWRwaWNrbGVfc3VibW9kdWxlc5RdlIwLX19nbG9iYWxzX1+UfZRoC2gAjAlzdWJpbXBvcnSUk5RoC4WUUpRzdYaUhlIwLg==')\\ntransform = pickle.loads(_base64code)\\n\\n\", spec=None, dependencies='Y2xvdWRwaWNrbGU9PTIuMC4w', runtime='python3')"
      ]
     },
     "execution_count": 25,
     "metadata": {},
     "output_type": "execute_result"
    }
   ],
   "source": [
    "client.etl().view(etl_id=\"etl-code-demo\")"
   ]
  },
  {
   "cell_type": "code",
   "execution_count": 26,
   "id": "80903c9e",
   "metadata": {},
   "outputs": [
    {
     "data": {
      "text/plain": [
       "ETLDetails(id='etl-spec-demo', communication='hpush://', timeout='5m', code=None, spec=b'\\napiVersion: v1\\nkind: Pod\\nmetadata:\\n  name: transformer-md5\\n  annotations:\\n    # Values it can take [\"hpull://\",\"hrev://\",\"hpush://\"]\\n    communication_type: \"hpush://\"\\n    wait_timeout: 5m\\nspec:\\n  containers:\\n    - name: server\\n      image: aistore/transformer_md5:latest\\n      imagePullPolicy: IfNotPresent\\n      ports:\\n        - name: default\\n          containerPort: 80\\n      command: [\\'/code/server.py\\', \\'--listen\\', \\'0.0.0.0\\', \\'--port\\', \\'80\\']\\n      readinessProbe:\\n        httpGet:\\n          path: /health\\n          port: default\\n', dependencies=None, runtime='python3')"
      ]
     },
     "execution_count": 26,
     "metadata": {},
     "output_type": "execute_result"
    }
   ],
   "source": [
    "client.etl().view(etl_id=\"etl-spec-demo\")"
   ]
  },
  {
   "cell_type": "markdown",
   "id": "f7813f98",
   "metadata": {},
   "source": [
    "### Get Object w/ ETL Transformation"
   ]
  },
  {
   "cell_type": "code",
   "execution_count": 27,
   "id": "56256969",
   "metadata": {},
   "outputs": [],
   "source": [
    "# Create bucket and put object\n",
    "from tests.utils import create_and_put_object\n",
    "\n",
    "client.bucket(bck_name=\"bucket-demo\").create()\n",
    "content = create_and_put_object(\n",
    "    client=client, bck_name=\"bucket-demo\", obj_name=\"object-demo.jpg\"\n",
    ")"
   ]
  },
  {
   "cell_type": "code",
   "execution_count": 28,
   "id": "44cb809c",
   "metadata": {},
   "outputs": [
    {
     "data": {
      "text/plain": [
       "b'bc9e3766f4e5de8b504fdb2e1ede7f31'"
      ]
     },
     "execution_count": 28,
     "metadata": {},
     "output_type": "execute_result"
    }
   ],
   "source": [
    "# Get object w/ ETL code transformation\n",
    "client.bucket(\"bucket-demo\").object(\"object-demo.jpg\").get(\n",
    "    etl_id=\"etl-code-demo\"\n",
    ").read_all()"
   ]
  },
  {
   "cell_type": "code",
   "execution_count": 29,
   "id": "3c485bf1",
   "metadata": {},
   "outputs": [
    {
     "data": {
      "text/plain": [
       "b'bc9e3766f4e5de8b504fdb2e1ede7f31'"
      ]
     },
     "execution_count": 29,
     "metadata": {},
     "output_type": "execute_result"
    }
   ],
   "source": [
    "# Get object w/ ETL spec transformation\n",
    "client.bucket(\"bucket-demo\").object(\"object-demo.jpg\").get(\n",
    "    etl_id=\"etl-spec-demo\"\n",
    ").read_all()"
   ]
  },
  {
   "cell_type": "markdown",
   "id": "52656fc1",
   "metadata": {},
   "source": [
    "### Transform Bucket w/ ETL Transformation"
   ]
  },
  {
   "cell_type": "code",
   "execution_count": 30,
   "id": "6760478f",
   "metadata": {},
   "outputs": [
    {
     "data": {
      "text/plain": [
       "'J0KRLcLyY7'"
      ]
     },
     "execution_count": 30,
     "metadata": {},
     "output_type": "execute_result"
    }
   ],
   "source": [
    "# Create bucket to store transformed objects\n",
    "client.bucket(\"transform-destination-bucket\").create()\n",
    "\n",
    "# Transform bucket contents (w/ on-the-fly object renames)\n",
    "client.bucket(\"bucket-demo\").transform(\n",
    "    etl_id=\"etl-spec-demo\",\n",
    "    to_bck=\"transform-destination-bucket\",\n",
    "    prefix=\"transformed-\",\n",
    "    ext={\"jpg\": \"txt\"},\n",
    ")"
   ]
  },
  {
   "cell_type": "code",
   "execution_count": 31,
   "id": "db8ccf1a",
   "metadata": {},
   "outputs": [
    {
     "data": {
      "text/plain": [
       "[BucketEntry(name='transformed-object-demo.txt', size=32, checksum='fd53dfab32663975', atime='05 Aug 22 17:06 UTC', version='', target_url='', copies=0, flags=64)]"
      ]
     },
     "execution_count": 31,
     "metadata": {},
     "output_type": "execute_result"
    }
   ],
   "source": [
    "# Verify rename operations for transformed objects\n",
    "client.bucket(\"transform-destination-bucket\").list_objects().get_entries()"
   ]
  },
  {
   "cell_type": "code",
   "execution_count": 32,
   "id": "d87a2722",
   "metadata": {},
   "outputs": [],
   "source": [
    "# Cleanup buckets\n",
    "for bucket in client.cluster().list_buckets():\n",
    "    client.bucket(bucket.name).delete()"
   ]
  },
  {
   "cell_type": "markdown",
   "id": "a1a2e8ae",
   "metadata": {},
   "source": [
    "### Stop ETLs"
   ]
  },
  {
   "cell_type": "code",
   "execution_count": 33,
   "id": "b7ab064f",
   "metadata": {},
   "outputs": [],
   "source": [
    "client.etl().stop(etl_id=\"etl-code-demo\")\n",
    "client.etl().stop(etl_id=\"etl-spec-demo\")"
   ]
  },
  {
   "cell_type": "markdown",
   "id": "9beb3d0f",
   "metadata": {},
   "source": [
    "### Restart Stopped ETLs"
   ]
  },
  {
   "cell_type": "code",
   "execution_count": 34,
   "id": "cea3c373",
   "metadata": {},
   "outputs": [],
   "source": [
    "client.etl().start(etl_id=\"etl-code-demo\")\n",
    "client.etl().start(etl_id=\"etl-spec-demo\")"
   ]
  },
  {
   "cell_type": "markdown",
   "id": "e1fb0a93",
   "metadata": {},
   "source": [
    "### Stop & Delete ETLs"
   ]
  },
  {
   "cell_type": "code",
   "execution_count": 35,
   "id": "bc33c20e",
   "metadata": {},
   "outputs": [],
   "source": [
    "client.etl().stop(etl_id=\"etl-code-demo\")\n",
    "client.etl().stop(etl_id=\"etl-spec-demo\")\n",
    "\n",
    "client.etl().delete(etl_id=\"etl-code-demo\")\n",
    "client.etl().delete(etl_id=\"etl-spec-demo\")"
   ]
  },
  {
   "cell_type": "markdown",
   "id": "7aaf1c52",
   "metadata": {},
   "source": [
    "### Starting Deleted ETL Raises Exception"
   ]
  },
  {
   "cell_type": "code",
   "execution_count": 36,
   "id": "cf2a938a",
   "metadata": {},
   "outputs": [
    {
     "ename": "AISError",
     "evalue": "STATUS:404, MESSAGE:p[KebRRGbm]: etl UUID etl-code-demo does not exist",
     "output_type": "error",
     "traceback": [
      "\u001b[0;31m---------------------------------------------------------------------------\u001b[0m",
      "\u001b[0;31mAISError\u001b[0m                                  Traceback (most recent call last)",
      "\u001b[1;32m/home/ryan/go/src/github.com/NVIDIA/aistore/sdk/python/sdk-etl-tutorial.ipynb Cell 24'\u001b[0m in \u001b[0;36m<cell line: 1>\u001b[0;34m()\u001b[0m\n\u001b[0;32m----> <a href='vscode-notebook-cell:/home/ryan/go/src/github.com/NVIDIA/aistore/sdk/python/sdk-etl-tutorial.ipynb#ch0000019?line=0'>1</a>\u001b[0m client\u001b[39m.\u001b[39;49metl()\u001b[39m.\u001b[39;49mstart(etl_id\u001b[39m=\u001b[39;49m\u001b[39m\"\u001b[39;49m\u001b[39metl-code-demo\u001b[39;49m\u001b[39m\"\u001b[39;49m)\n",
      "File \u001b[0;32m~/go/src/github.com/NVIDIA/aistore/sdk/python/aistore/client/etl.py:165\u001b[0m, in \u001b[0;36mEtl.start\u001b[0;34m(self, etl_id)\u001b[0m\n\u001b[1;32m    156\u001b[0m \u001b[39mdef\u001b[39;00m \u001b[39mstart\u001b[39m(\u001b[39mself\u001b[39m, etl_id: \u001b[39mstr\u001b[39m):\n\u001b[1;32m    157\u001b[0m     \u001b[39m\"\"\"\u001b[39;00m\n\u001b[1;32m    158\u001b[0m \u001b[39m    Starts a stopped ETL with given ETL_ID.\u001b[39;00m\n\u001b[1;32m    159\u001b[0m \n\u001b[0;32m   (...)\u001b[0m\n\u001b[1;32m    163\u001b[0m \u001b[39m        Nothing\u001b[39;00m\n\u001b[1;32m    164\u001b[0m \u001b[39m    \"\"\"\u001b[39;00m\n\u001b[0;32m--> 165\u001b[0m     \u001b[39mself\u001b[39;49m\u001b[39m.\u001b[39;49mclient\u001b[39m.\u001b[39;49mrequest(HTTP_METHOD_POST, path\u001b[39m=\u001b[39;49m\u001b[39mf\u001b[39;49m\u001b[39m\"\u001b[39;49m\u001b[39metl/\u001b[39;49m\u001b[39m{\u001b[39;49;00m etl_id \u001b[39m}\u001b[39;49;00m\u001b[39m/start\u001b[39;49m\u001b[39m\"\u001b[39;49m)\n",
      "File \u001b[0;32m~/go/src/github.com/NVIDIA/aistore/sdk/python/aistore/client/api.py:65\u001b[0m, in \u001b[0;36mClient.request\u001b[0;34m(self, method, path, **kwargs)\u001b[0m\n\u001b[1;32m     61\u001b[0m resp \u001b[39m=\u001b[39m \u001b[39mself\u001b[39m\u001b[39m.\u001b[39msession\u001b[39m.\u001b[39mrequest(\n\u001b[1;32m     62\u001b[0m     method, url, headers\u001b[39m=\u001b[39m{\u001b[39m\"\u001b[39m\u001b[39mAccept\u001b[39m\u001b[39m\"\u001b[39m: \u001b[39m\"\u001b[39m\u001b[39mapplication/json\u001b[39m\u001b[39m\"\u001b[39m}, \u001b[39m*\u001b[39m\u001b[39m*\u001b[39mkwargs\n\u001b[1;32m     63\u001b[0m )\n\u001b[1;32m     64\u001b[0m \u001b[39mif\u001b[39;00m resp\u001b[39m.\u001b[39mstatus_code \u001b[39m<\u001b[39m \u001b[39m200\u001b[39m \u001b[39mor\u001b[39;00m resp\u001b[39m.\u001b[39mstatus_code \u001b[39m>\u001b[39m\u001b[39m=\u001b[39m \u001b[39m300\u001b[39m:\n\u001b[0;32m---> 65\u001b[0m     handle_errors(resp)\n\u001b[1;32m     66\u001b[0m \u001b[39mreturn\u001b[39;00m resp\n",
      "File \u001b[0;32m~/go/src/github.com/NVIDIA/aistore/sdk/python/aistore/client/utils.py:38\u001b[0m, in \u001b[0;36mhandle_errors\u001b[0;34m(resp)\u001b[0m\n\u001b[1;32m     36\u001b[0m         error_text \u001b[39m=\u001b[39m error_text\u001b[39m.\u001b[39mdecode(\u001b[39m\"\u001b[39m\u001b[39miso-8859-1\u001b[39m\u001b[39m\"\u001b[39m)\n\u001b[1;32m     37\u001b[0m \u001b[39mif\u001b[39;00m error_text \u001b[39m!=\u001b[39m \u001b[39m\"\u001b[39m\u001b[39m\"\u001b[39m:\n\u001b[0;32m---> 38\u001b[0m     _raise_error(error_text)\n\u001b[1;32m     39\u001b[0m resp\u001b[39m.\u001b[39mraise_for_status()\n",
      "File \u001b[0;32m~/go/src/github.com/NVIDIA/aistore/sdk/python/aistore/client/utils.py:20\u001b[0m, in \u001b[0;36m_raise_error\u001b[0;34m(text)\u001b[0m\n\u001b[1;32m     18\u001b[0m         \u001b[39mif\u001b[39;00m \u001b[39m\"\u001b[39m\u001b[39mbucket\u001b[39m\u001b[39m\"\u001b[39m \u001b[39min\u001b[39;00m err\u001b[39m.\u001b[39mmessage:\n\u001b[1;32m     19\u001b[0m             \u001b[39mraise\u001b[39;00m ErrBckNotFound(err\u001b[39m.\u001b[39mstatus, err\u001b[39m.\u001b[39mmessage)\n\u001b[0;32m---> 20\u001b[0m \u001b[39mraise\u001b[39;00m AISError(err\u001b[39m.\u001b[39mstatus, err\u001b[39m.\u001b[39mmessage)\n",
      "\u001b[0;31mAISError\u001b[0m: STATUS:404, MESSAGE:p[KebRRGbm]: etl UUID etl-code-demo does not exist"
     ]
    }
   ],
   "source": [
    "client.etl().start(etl_id=\"etl-code-demo\")"
   ]
  },
  {
   "cell_type": "code",
   "execution_count": 37,
   "id": "02fa415c",
   "metadata": {},
   "outputs": [
    {
     "ename": "AISError",
     "evalue": "STATUS:404, MESSAGE:p[KebRRGbm]: etl UUID etl-spec-demo does not exist",
     "output_type": "error",
     "traceback": [
      "\u001b[0;31m---------------------------------------------------------------------------\u001b[0m",
      "\u001b[0;31mAISError\u001b[0m                                  Traceback (most recent call last)",
      "\u001b[1;32m/home/ryan/go/src/github.com/NVIDIA/aistore/sdk/python/sdk-etl-tutorial.ipynb Cell 25'\u001b[0m in \u001b[0;36m<cell line: 1>\u001b[0;34m()\u001b[0m\n\u001b[0;32m----> <a href='vscode-notebook-cell:/home/ryan/go/src/github.com/NVIDIA/aistore/sdk/python/sdk-etl-tutorial.ipynb#ch0000020?line=0'>1</a>\u001b[0m client\u001b[39m.\u001b[39;49metl()\u001b[39m.\u001b[39;49mstart(etl_id\u001b[39m=\u001b[39;49m\u001b[39m\"\u001b[39;49m\u001b[39metl-spec-demo\u001b[39;49m\u001b[39m\"\u001b[39;49m)\n",
      "File \u001b[0;32m~/go/src/github.com/NVIDIA/aistore/sdk/python/aistore/client/etl.py:165\u001b[0m, in \u001b[0;36mEtl.start\u001b[0;34m(self, etl_id)\u001b[0m\n\u001b[1;32m    156\u001b[0m \u001b[39mdef\u001b[39;00m \u001b[39mstart\u001b[39m(\u001b[39mself\u001b[39m, etl_id: \u001b[39mstr\u001b[39m):\n\u001b[1;32m    157\u001b[0m     \u001b[39m\"\"\"\u001b[39;00m\n\u001b[1;32m    158\u001b[0m \u001b[39m    Starts a stopped ETL with given ETL_ID.\u001b[39;00m\n\u001b[1;32m    159\u001b[0m \n\u001b[0;32m   (...)\u001b[0m\n\u001b[1;32m    163\u001b[0m \u001b[39m        Nothing\u001b[39;00m\n\u001b[1;32m    164\u001b[0m \u001b[39m    \"\"\"\u001b[39;00m\n\u001b[0;32m--> 165\u001b[0m     \u001b[39mself\u001b[39;49m\u001b[39m.\u001b[39;49mclient\u001b[39m.\u001b[39;49mrequest(HTTP_METHOD_POST, path\u001b[39m=\u001b[39;49m\u001b[39mf\u001b[39;49m\u001b[39m\"\u001b[39;49m\u001b[39metl/\u001b[39;49m\u001b[39m{\u001b[39;49;00m etl_id \u001b[39m}\u001b[39;49;00m\u001b[39m/start\u001b[39;49m\u001b[39m\"\u001b[39;49m)\n",
      "File \u001b[0;32m~/go/src/github.com/NVIDIA/aistore/sdk/python/aistore/client/api.py:65\u001b[0m, in \u001b[0;36mClient.request\u001b[0;34m(self, method, path, **kwargs)\u001b[0m\n\u001b[1;32m     61\u001b[0m resp \u001b[39m=\u001b[39m \u001b[39mself\u001b[39m\u001b[39m.\u001b[39msession\u001b[39m.\u001b[39mrequest(\n\u001b[1;32m     62\u001b[0m     method, url, headers\u001b[39m=\u001b[39m{\u001b[39m\"\u001b[39m\u001b[39mAccept\u001b[39m\u001b[39m\"\u001b[39m: \u001b[39m\"\u001b[39m\u001b[39mapplication/json\u001b[39m\u001b[39m\"\u001b[39m}, \u001b[39m*\u001b[39m\u001b[39m*\u001b[39mkwargs\n\u001b[1;32m     63\u001b[0m )\n\u001b[1;32m     64\u001b[0m \u001b[39mif\u001b[39;00m resp\u001b[39m.\u001b[39mstatus_code \u001b[39m<\u001b[39m \u001b[39m200\u001b[39m \u001b[39mor\u001b[39;00m resp\u001b[39m.\u001b[39mstatus_code \u001b[39m>\u001b[39m\u001b[39m=\u001b[39m \u001b[39m300\u001b[39m:\n\u001b[0;32m---> 65\u001b[0m     handle_errors(resp)\n\u001b[1;32m     66\u001b[0m \u001b[39mreturn\u001b[39;00m resp\n",
      "File \u001b[0;32m~/go/src/github.com/NVIDIA/aistore/sdk/python/aistore/client/utils.py:38\u001b[0m, in \u001b[0;36mhandle_errors\u001b[0;34m(resp)\u001b[0m\n\u001b[1;32m     36\u001b[0m         error_text \u001b[39m=\u001b[39m error_text\u001b[39m.\u001b[39mdecode(\u001b[39m\"\u001b[39m\u001b[39miso-8859-1\u001b[39m\u001b[39m\"\u001b[39m)\n\u001b[1;32m     37\u001b[0m \u001b[39mif\u001b[39;00m error_text \u001b[39m!=\u001b[39m \u001b[39m\"\u001b[39m\u001b[39m\"\u001b[39m:\n\u001b[0;32m---> 38\u001b[0m     _raise_error(error_text)\n\u001b[1;32m     39\u001b[0m resp\u001b[39m.\u001b[39mraise_for_status()\n",
      "File \u001b[0;32m~/go/src/github.com/NVIDIA/aistore/sdk/python/aistore/client/utils.py:20\u001b[0m, in \u001b[0;36m_raise_error\u001b[0;34m(text)\u001b[0m\n\u001b[1;32m     18\u001b[0m         \u001b[39mif\u001b[39;00m \u001b[39m\"\u001b[39m\u001b[39mbucket\u001b[39m\u001b[39m\"\u001b[39m \u001b[39min\u001b[39;00m err\u001b[39m.\u001b[39mmessage:\n\u001b[1;32m     19\u001b[0m             \u001b[39mraise\u001b[39;00m ErrBckNotFound(err\u001b[39m.\u001b[39mstatus, err\u001b[39m.\u001b[39mmessage)\n\u001b[0;32m---> 20\u001b[0m \u001b[39mraise\u001b[39;00m AISError(err\u001b[39m.\u001b[39mstatus, err\u001b[39m.\u001b[39mmessage)\n",
      "\u001b[0;31mAISError\u001b[0m: STATUS:404, MESSAGE:p[KebRRGbm]: etl UUID etl-spec-demo does not exist"
     ]
    }
   ],
   "source": [
    "client.etl().start(etl_id=\"etl-spec-demo\")"
   ]
  },
  {
   "cell_type": "markdown",
   "id": "278ecb98",
   "metadata": {},
   "source": [
    "### Initialize ETL w/ before and after code and stream data"
   ]
  },
  {
   "cell_type": "code",
   "execution_count": 3,
   "id": "97214ac4",
   "metadata": {},
   "outputs": [
    {
     "data": {
      "text/plain": [
       "'md5-stream'"
      ]
     },
     "execution_count": 3,
     "metadata": {},
     "output_type": "execute_result"
    }
   ],
   "source": [
    "def before():\n",
    "    return hashlib.md5()\n",
    "\n",
    "\n",
    "def transform(input_bytes, md5):\n",
    "    md5.update(input_bytes)\n",
    "\n",
    "\n",
    "def after(md5):\n",
    "    return md5.hexdigest().encode()\n",
    "\n",
    "\n",
    "client.etl().init_code(\n",
    "    transform=transform,\n",
    "    before=before,\n",
    "    after=after,\n",
    "    etl_id=\"md5-stream\",\n",
    "    chunk_size=32768,\n",
    ")"
   ]
  }
 ],
 "metadata": {
  "kernelspec": {
   "display_name": "Python 3.10.4 64-bit",
   "language": "python",
   "name": "python3"
  },
  "language_info": {
   "codemirror_mode": {
    "name": "ipython",
    "version": 3
   },
   "file_extension": ".py",
   "mimetype": "text/x-python",
   "name": "python",
   "nbconvert_exporter": "python",
   "pygments_lexer": "ipython3",
   "version": "3.8.10"
  },
  "vscode": {
   "interpreter": {
    "hash": "916dbcbb3f70747c44a77c7bcd40155683ae19c65e1c03b4aa3499c5328201f1"
   }
  }
 },
 "nbformat": 4,
 "nbformat_minor": 5
}
