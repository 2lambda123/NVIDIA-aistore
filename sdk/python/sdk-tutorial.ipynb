{
 "cells": [
  {
   "cell_type": "markdown",
   "id": "9566debc",
   "metadata": {},
   "source": [
    "# AIStore Python SDK Tutorial"
   ]
  },
  {
   "cell_type": "code",
   "execution_count": 1,
   "id": "6cfce8fb",
   "metadata": {},
   "outputs": [],
   "source": [
    "from aistore.client.api import Client\n",
    "import tempfile"
   ]
  },
  {
   "cell_type": "markdown",
   "id": "f04ebaa0",
   "metadata": {},
   "source": [
    "### Initialize client"
   ]
  },
  {
   "cell_type": "code",
   "execution_count": 2,
   "id": "e509f4a1",
   "metadata": {},
   "outputs": [],
   "source": [
    "client = Client(\"http://localhost:8080\") \n",
    "# client = Client(\"http://ais-proxy:51080\")"
   ]
  },
  {
   "cell_type": "markdown",
   "id": "9afc4681",
   "metadata": {},
   "source": [
    "### CREATE bucket"
   ]
  },
  {
   "cell_type": "code",
   "execution_count": 5,
   "id": "05e05426",
   "metadata": {
    "scrolled": true
   },
   "outputs": [],
   "source": [
    "BUCKET_NAME = \"sdk_test\"\n",
    "client.create_bucket(BUCKET_NAME)"
   ]
  },
  {
   "cell_type": "markdown",
   "id": "1b7b41f6",
   "metadata": {},
   "source": [
    "Let's now view the newly create bucket"
   ]
  },
  {
   "cell_type": "code",
   "execution_count": 6,
   "id": "27e0d8c8",
   "metadata": {},
   "outputs": [
    {
     "data": {
      "text/plain": [
       "[Bck(name='sdk_test', provider='ais', ns=None)]"
      ]
     },
     "execution_count": 6,
     "metadata": {},
     "output_type": "execute_result"
    }
   ],
   "source": [
    "client.list_buckets()"
   ]
  },
  {
   "cell_type": "markdown",
   "id": "b292f88f",
   "metadata": {},
   "source": [
    "### PUT objects"
   ]
  },
  {
   "cell_type": "code",
   "execution_count": 8,
   "id": "b946f1cf",
   "metadata": {},
   "outputs": [],
   "source": [
    "num_objs = 10\n",
    "for i in range(num_objs):\n",
    "    s = f\"test string {i}\" \n",
    "    content = s.encode('utf-8')\n",
    "    obj_name = f\"obj-{i}\"\n",
    "    with tempfile.NamedTemporaryFile() as f:\n",
    "        f.write(content)\n",
    "        f.flush()\n",
    "        # Observe the PUT call here\n",
    "        client.put_object(BUCKET_NAME, obj_name, f.name)"
   ]
  },
  {
   "cell_type": "markdown",
   "id": "7002e2d8",
   "metadata": {},
   "source": [
    "### LIST objects"
   ]
  },
  {
   "cell_type": "code",
   "execution_count": 9,
   "id": "48c79755",
   "metadata": {},
   "outputs": [
    {
     "data": {
      "text/plain": [
       "[BucketEntry(name='obj-0', size=13, checksum='e481a324680713f9', atime='12 May 22 14:02 PDT', version='', target_url='', copies=0, flags=64),\n",
       " BucketEntry(name='obj-1', size=13, checksum='6191419726003813', atime='12 May 22 13:53 PDT', version='', target_url='', copies=0, flags=64),\n",
       " BucketEntry(name='obj-2', size=13, checksum='9d69f9e9cd57d3e2', atime='12 May 22 13:53 PDT', version='', target_url='', copies=0, flags=64),\n",
       " BucketEntry(name='obj-3', size=13, checksum='b9a8eab36a741ace', atime='12 May 22 13:53 PDT', version='', target_url='', copies=0, flags=64),\n",
       " BucketEntry(name='obj-4', size=13, checksum='23b2ed9cc1371cf6', atime='12 May 22 13:53 PDT', version='', target_url='', copies=0, flags=64),\n",
       " BucketEntry(name='obj-5', size=13, checksum='7b8d59ae49b9be64', atime='12 May 22 13:53 PDT', version='', target_url='', copies=0, flags=64),\n",
       " BucketEntry(name='obj-6', size=13, checksum='5ae9217614999c65', atime='12 May 22 13:53 PDT', version='', target_url='', copies=0, flags=64),\n",
       " BucketEntry(name='obj-7', size=13, checksum='36b53e9de43747ae', atime='12 May 22 13:53 PDT', version='', target_url='', copies=0, flags=64),\n",
       " BucketEntry(name='obj-8', size=13, checksum='1dc37107ac5e4e7d', atime='12 May 22 13:53 PDT', version='', target_url='', copies=0, flags=64),\n",
       " BucketEntry(name='obj-9', size=13, checksum='682e439114cf39fc', atime='12 May 22 13:53 PDT', version='', target_url='', copies=0, flags=64)]"
      ]
     },
     "execution_count": 9,
     "metadata": {},
     "output_type": "execute_result"
    }
   ],
   "source": [
    "objects = client.list_objects(BUCKET_NAME).entries\n",
    "assert len(objects) == num_objs \n",
    "objects"
   ]
  },
  {
   "cell_type": "markdown",
   "id": "3306829e",
   "metadata": {},
   "source": [
    "### HEAD object (to inspect its properties)"
   ]
  },
  {
   "cell_type": "code",
   "execution_count": 10,
   "id": "df099d44",
   "metadata": {},
   "outputs": [
    {
     "data": {
      "text/plain": [
       "{'Ais-Atime': '1652389343957903087', 'Ais-Bucket-Name': 'sdk_test', 'Ais-Bucket-Provider': 'ais', 'Ais-Checksum-Type': 'xxhash', 'Ais-Checksum-Value': 'e481a324680713f9', 'Ais-Daemon-Id': 'Mldt8083', 'Ais-Mirror-Copies': '1', 'Ais-Mirror-Paths': '[/tmp/ais/mp1/3]', 'Ais-Name': 'obj-0', 'Ais-Present': 'true', 'Ais-Version': '2', 'Content-Length': '13', 'Date': 'Thu, 12 May 2022 21:09:07 GMT'}"
      ]
     },
     "execution_count": 10,
     "metadata": {},
     "output_type": "execute_result"
    }
   ],
   "source": [
    "client.head_object(BUCKET_NAME, objects[0].name)"
   ]
  },
  {
   "cell_type": "markdown",
   "id": "90833dea",
   "metadata": {},
   "source": [
    "### GET object"
   ]
  },
  {
   "cell_type": "code",
   "execution_count": 13,
   "id": "eb89edfd",
   "metadata": {},
   "outputs": [
    {
     "data": {
      "text/plain": [
       "b'test string 0'"
      ]
     },
     "execution_count": 13,
     "metadata": {},
     "output_type": "execute_result"
    }
   ],
   "source": [
    "client.get_object(BUCKET_NAME, objects[0].name).read_all()"
   ]
  },
  {
   "cell_type": "markdown",
   "id": "7cc224da",
   "metadata": {},
   "source": [
    "### DELETE object"
   ]
  },
  {
   "cell_type": "code",
   "execution_count": 14,
   "id": "e6e868b9",
   "metadata": {},
   "outputs": [],
   "source": [
    "client.delete_object(BUCKET_NAME, objects[0].name)"
   ]
  },
  {
   "cell_type": "markdown",
   "id": "5eddf175",
   "metadata": {},
   "source": [
    "### Trying to GET deleted object raises an exception"
   ]
  },
  {
   "cell_type": "code",
   "execution_count": 16,
   "id": "4a2e45bf",
   "metadata": {},
   "outputs": [
    {
     "ename": "HTTPError",
     "evalue": "404 Client Error: Not Found for url: http://127.0.0.1:8083/v1/objects/sdk_test/obj-0?provider=ais&archpath=&pid=eNJp8080&utm=1652390059842379144",
     "output_type": "error",
     "traceback": [
      "\u001b[0;31m---------------------------------------------------------------------------\u001b[0m",
      "\u001b[0;31mHTTPError\u001b[0m                                 Traceback (most recent call last)",
      "Input \u001b[0;32mIn [16]\u001b[0m, in \u001b[0;36m<cell line: 1>\u001b[0;34m()\u001b[0m\n\u001b[0;32m----> 1\u001b[0m \u001b[43mclient\u001b[49m\u001b[38;5;241;43m.\u001b[39;49m\u001b[43mget_object\u001b[49m\u001b[43m(\u001b[49m\u001b[43mBUCKET_NAME\u001b[49m\u001b[43m,\u001b[49m\u001b[43m \u001b[49m\u001b[43mobjects\u001b[49m\u001b[43m[\u001b[49m\u001b[38;5;241;43m0\u001b[39;49m\u001b[43m]\u001b[49m\u001b[38;5;241;43m.\u001b[39;49m\u001b[43mname\u001b[49m\u001b[43m)\u001b[49m\n",
      "File \u001b[0;32m~/go/src/github.com/NVIDIA/aistore/sdk/python/aistore/client/api.py:333\u001b[0m, in \u001b[0;36mClient.get_object\u001b[0;34m(self, bck_name, obj_name, provider, archpath)\u001b[0m\n\u001b[1;32m    314\u001b[0m \u001b[38;5;124;03m\"\"\"\u001b[39;00m\n\u001b[1;32m    315\u001b[0m \u001b[38;5;124;03mReads an object\u001b[39;00m\n\u001b[1;32m    316\u001b[0m \n\u001b[0;32m   (...)\u001b[0m\n\u001b[1;32m    330\u001b[0m \u001b[38;5;124;03m    requests.ReadTimeout: Timeout receiving response from server\u001b[39;00m\n\u001b[1;32m    331\u001b[0m \u001b[38;5;124;03m\"\"\"\u001b[39;00m\n\u001b[1;32m    332\u001b[0m params \u001b[38;5;241m=\u001b[39m {QParamProvider: provider, QParamArchpath: archpath}\n\u001b[0;32m--> 333\u001b[0m resp \u001b[38;5;241m=\u001b[39m \u001b[38;5;28;43mself\u001b[39;49m\u001b[38;5;241;43m.\u001b[39;49m\u001b[43m_request\u001b[49m\u001b[43m(\u001b[49m\u001b[43mHTTP_METHOD_GET\u001b[49m\u001b[43m,\u001b[49m\u001b[43m \u001b[49m\u001b[43mpath\u001b[49m\u001b[38;5;241;43m=\u001b[39;49m\u001b[38;5;124;43mf\u001b[39;49m\u001b[38;5;124;43m\"\u001b[39;49m\u001b[38;5;124;43mobjects/\u001b[39;49m\u001b[38;5;132;43;01m{\u001b[39;49;00m\u001b[43m \u001b[49m\u001b[43mbck_name\u001b[49m\u001b[43m \u001b[49m\u001b[38;5;132;43;01m}\u001b[39;49;00m\u001b[38;5;124;43m/\u001b[39;49m\u001b[38;5;132;43;01m{\u001b[39;49;00m\u001b[43m \u001b[49m\u001b[43mobj_name\u001b[49m\u001b[43m \u001b[49m\u001b[38;5;132;43;01m}\u001b[39;49;00m\u001b[38;5;124;43m\"\u001b[39;49m\u001b[43m,\u001b[49m\u001b[43m \u001b[49m\u001b[43mparams\u001b[49m\u001b[38;5;241;43m=\u001b[39;49m\u001b[43mparams\u001b[49m\u001b[43m,\u001b[49m\u001b[43m \u001b[49m\u001b[43mstream\u001b[49m\u001b[38;5;241;43m=\u001b[39;49m\u001b[38;5;28;43;01mTrue\u001b[39;49;00m\u001b[43m)\u001b[49m\n\u001b[1;32m    334\u001b[0m length \u001b[38;5;241m=\u001b[39m \u001b[38;5;28mint\u001b[39m(resp\u001b[38;5;241m.\u001b[39mheaders\u001b[38;5;241m.\u001b[39mget(\u001b[38;5;124m\"\u001b[39m\u001b[38;5;124mcontent-length\u001b[39m\u001b[38;5;124m\"\u001b[39m, \u001b[38;5;241m0\u001b[39m))\n\u001b[1;32m    335\u001b[0m e_tag \u001b[38;5;241m=\u001b[39m resp\u001b[38;5;241m.\u001b[39mheaders\u001b[38;5;241m.\u001b[39mget(\u001b[38;5;124m\"\u001b[39m\u001b[38;5;124mais-checksum-value\u001b[39m\u001b[38;5;124m\"\u001b[39m, \u001b[38;5;124m\"\u001b[39m\u001b[38;5;124m\"\u001b[39m)\n",
      "File \u001b[0;32m~/go/src/github.com/NVIDIA/aistore/sdk/python/aistore/client/api.py:85\u001b[0m, in \u001b[0;36mClient._request\u001b[0;34m(self, method, path, **kwargs)\u001b[0m\n\u001b[1;32m     83\u001b[0m url \u001b[38;5;241m=\u001b[39m \u001b[38;5;124mf\u001b[39m\u001b[38;5;124m\"\u001b[39m\u001b[38;5;132;01m{\u001b[39;00m \u001b[38;5;28mself\u001b[39m\u001b[38;5;241m.\u001b[39mbase_url \u001b[38;5;132;01m}\u001b[39;00m\u001b[38;5;124m/\u001b[39m\u001b[38;5;132;01m{\u001b[39;00m path\u001b[38;5;241m.\u001b[39mlstrip(\u001b[38;5;124m'\u001b[39m\u001b[38;5;124m/\u001b[39m\u001b[38;5;124m'\u001b[39m) \u001b[38;5;132;01m}\u001b[39;00m\u001b[38;5;124m\"\u001b[39m\n\u001b[1;32m     84\u001b[0m resp \u001b[38;5;241m=\u001b[39m requests\u001b[38;5;241m.\u001b[39mrequest(method, url, headers\u001b[38;5;241m=\u001b[39m{\u001b[38;5;124m\"\u001b[39m\u001b[38;5;124mAccept\u001b[39m\u001b[38;5;124m\"\u001b[39m: \u001b[38;5;124m\"\u001b[39m\u001b[38;5;124mapplication/json\u001b[39m\u001b[38;5;124m\"\u001b[39m}, \u001b[38;5;241m*\u001b[39m\u001b[38;5;241m*\u001b[39mkwargs)\n\u001b[0;32m---> 85\u001b[0m \u001b[43mresp\u001b[49m\u001b[38;5;241;43m.\u001b[39;49m\u001b[43mraise_for_status\u001b[49m\u001b[43m(\u001b[49m\u001b[43m)\u001b[49m\n\u001b[1;32m     86\u001b[0m \u001b[38;5;28;01mreturn\u001b[39;00m resp\n",
      "File \u001b[0;32m~/go/src/github.com/NVIDIA/aistore/venv/lib/python3.9/site-packages/requests/models.py:960\u001b[0m, in \u001b[0;36mResponse.raise_for_status\u001b[0;34m(self)\u001b[0m\n\u001b[1;32m    957\u001b[0m     http_error_msg \u001b[38;5;241m=\u001b[39m \u001b[38;5;124mu\u001b[39m\u001b[38;5;124m'\u001b[39m\u001b[38;5;132;01m%s\u001b[39;00m\u001b[38;5;124m Server Error: \u001b[39m\u001b[38;5;132;01m%s\u001b[39;00m\u001b[38;5;124m for url: \u001b[39m\u001b[38;5;132;01m%s\u001b[39;00m\u001b[38;5;124m'\u001b[39m \u001b[38;5;241m%\u001b[39m (\u001b[38;5;28mself\u001b[39m\u001b[38;5;241m.\u001b[39mstatus_code, reason, \u001b[38;5;28mself\u001b[39m\u001b[38;5;241m.\u001b[39murl)\n\u001b[1;32m    959\u001b[0m \u001b[38;5;28;01mif\u001b[39;00m http_error_msg:\n\u001b[0;32m--> 960\u001b[0m     \u001b[38;5;28;01mraise\u001b[39;00m HTTPError(http_error_msg, response\u001b[38;5;241m=\u001b[39m\u001b[38;5;28mself\u001b[39m)\n",
      "\u001b[0;31mHTTPError\u001b[0m: 404 Client Error: Not Found for url: http://127.0.0.1:8083/v1/objects/sdk_test/obj-0?provider=ais&archpath=&pid=eNJp8080&utm=1652390059842379144"
     ]
    }
   ],
   "source": [
    "client.get_object(BUCKET_NAME, objects[0].name)"
   ]
  },
  {
   "cell_type": "markdown",
   "id": "e616503b",
   "metadata": {},
   "source": [
    "### View cluster information"
   ]
  },
  {
   "cell_type": "code",
   "execution_count": 19,
   "id": "c9bf6281",
   "metadata": {},
   "outputs": [
    {
     "data": {
      "text/plain": [
       "{'tmap': {'Mldt8083': {'daemon_id': 'Mldt8083',\n",
       "   'daemon_type': 'target',\n",
       "   'public_net': {'node_hostname': '',\n",
       "    'daemon_port': '8083',\n",
       "    'direct_url': 'http://127.0.0.1:8083'},\n",
       "   'intra_control_net': {'node_hostname': '',\n",
       "    'daemon_port': '9083',\n",
       "    'direct_url': 'http://127.0.0.1:9083'},\n",
       "   'intra_data_net': {'node_hostname': '',\n",
       "    'daemon_port': '10083',\n",
       "    'direct_url': 'http://127.0.0.1:10083'},\n",
       "   'flags': 0},\n",
       "  'Nuct8082': {'daemon_id': 'Nuct8082',\n",
       "   'daemon_type': 'target',\n",
       "   'public_net': {'node_hostname': '',\n",
       "    'daemon_port': '8082',\n",
       "    'direct_url': 'http://127.0.0.1:8082'},\n",
       "   'intra_control_net': {'node_hostname': '',\n",
       "    'daemon_port': '9082',\n",
       "    'direct_url': 'http://127.0.0.1:9082'},\n",
       "   'intra_data_net': {'node_hostname': '',\n",
       "    'daemon_port': '10082',\n",
       "    'direct_url': 'http://127.0.0.1:10082'},\n",
       "   'flags': 0}},\n",
       " 'pmap': {'eNJp8080': {'daemon_id': 'eNJp8080',\n",
       "   'daemon_type': 'proxy',\n",
       "   'public_net': {'node_hostname': '',\n",
       "    'daemon_port': '8080',\n",
       "    'direct_url': 'http://127.0.0.1:8080'},\n",
       "   'intra_control_net': {'node_hostname': '',\n",
       "    'daemon_port': '9080',\n",
       "    'direct_url': 'http://127.0.0.1:9080'},\n",
       "   'intra_data_net': {'node_hostname': '',\n",
       "    'daemon_port': '10080',\n",
       "    'direct_url': 'http://127.0.0.1:10080'},\n",
       "   'flags': 2},\n",
       "  'Ahgp8081': {'daemon_id': 'Ahgp8081',\n",
       "   'daemon_type': 'proxy',\n",
       "   'public_net': {'node_hostname': '',\n",
       "    'daemon_port': '8081',\n",
       "    'direct_url': 'http://127.0.0.1:8081'},\n",
       "   'intra_control_net': {'node_hostname': '',\n",
       "    'daemon_port': '9081',\n",
       "    'direct_url': 'http://127.0.0.1:9081'},\n",
       "   'intra_data_net': {'node_hostname': '',\n",
       "    'daemon_port': '10081',\n",
       "    'direct_url': 'http://127.0.0.1:10081'},\n",
       "   'flags': 2}},\n",
       " 'proxy_si': {'daemon_id': 'eNJp8080',\n",
       "  'daemon_type': 'proxy',\n",
       "  'public_net': {'node_hostname': '',\n",
       "   'daemon_port': '8080',\n",
       "   'direct_url': 'http://127.0.0.1:8080'},\n",
       "  'intra_control_net': {'node_hostname': '',\n",
       "   'daemon_port': '9080',\n",
       "   'direct_url': 'http://127.0.0.1:9080'},\n",
       "  'intra_data_net': {'node_hostname': '',\n",
       "   'daemon_port': '10080',\n",
       "   'direct_url': 'http://127.0.0.1:10080'},\n",
       "  'flags': 2},\n",
       " 'version': 7,\n",
       " 'uuid': 'T5WjbKS-hB',\n",
       " 'creation_time': '2022-05-12 13:42:17.254024456 -0700 PDT m=+16.029024661'}"
      ]
     },
     "execution_count": 19,
     "metadata": {},
     "output_type": "execute_result"
    }
   ],
   "source": [
    "client.get_cluster_info().dict()"
   ]
  },
  {
   "cell_type": "code",
   "execution_count": null,
   "id": "da270739",
   "metadata": {},
   "outputs": [],
   "source": []
  }
 ],
 "metadata": {
  "kernelspec": {
   "display_name": "Python 3 (ipykernel)",
   "language": "python",
   "name": "python3"
  },
  "language_info": {
   "codemirror_mode": {
    "name": "ipython",
    "version": 3
   },
   "file_extension": ".py",
   "mimetype": "text/x-python",
   "name": "python",
   "nbconvert_exporter": "python",
   "pygments_lexer": "ipython3",
   "version": "3.9.7"
  }
 },
 "nbformat": 4,
 "nbformat_minor": 5
}
