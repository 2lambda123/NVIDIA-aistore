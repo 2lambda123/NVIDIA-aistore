{
 "cells": [
  {
   "cell_type": "code",
   "execution_count": null,
   "outputs": [],
   "source": [
    "# AIStore Python SDK ETL Tutorial"
   ],
   "metadata": {
    "collapsed": false
   }
  },
  {
   "cell_type": "markdown",
   "id": "e616503b",
   "metadata": {},
   "source": [
    "### Initialize ETLs\n"
   ]
  },
  {
   "cell_type": "code",
   "execution_count": null,
   "id": "45d2c741",
   "metadata": {},
   "outputs": [],
   "source": [
    "from aistore import Client\n",
    "from aistore.client.etl_templates import MD5\n",
    "import hashlib\n",
    "from itertools import cycle\n",
    "\n",
    "BUCKET_NAME = \"bucket-demo\"\n",
    "\n",
    "# Note: AIS-ETLs require Kubernetes.\n",
    "client = Client(\"http://192.168.49.2:8080\")\n",
    "\n",
    "\n",
    "# ETL w/ Code\n",
    "def transform(input_bytes):\n",
    "    md5 = hashlib.md5()\n",
    "    md5.update(input_bytes)\n",
    "    return md5.hexdigest().encode()\n",
    "\n",
    "\n",
    "client.etl().init_code(transform=transform, etl_name=\"etl-code-demo\")\n",
    "\n",
    "\n",
    "# ETL w/ Spec\n",
    "template = MD5.format(communication_type=\"hpush\")\n",
    "client.etl().init_spec(template=template, etl_name=\"etl-spec-demo\")"
   ]
  },
  {
   "cell_type": "markdown",
   "id": "888ad4ee",
   "metadata": {},
   "source": [
    "### List ETLs"
   ]
  },
  {
   "cell_type": "code",
   "execution_count": null,
   "id": "4f001731",
   "metadata": {},
   "outputs": [],
   "source": [
    "# Verify ETLs are running\n",
    "client.etl().list()"
   ]
  },
  {
   "cell_type": "markdown",
   "id": "2a0d8e79",
   "metadata": {},
   "source": [
    "### View ETLs"
   ]
  },
  {
   "cell_type": "code",
   "execution_count": null,
   "id": "030e8611",
   "metadata": {},
   "outputs": [],
   "source": [
    "client.etl().view(etl_name=\"etl-code-demo\")"
   ]
  },
  {
   "cell_type": "code",
   "execution_count": null,
   "id": "80903c9e",
   "metadata": {},
   "outputs": [],
   "source": [
    "client.etl().view(etl_name=\"etl-spec-demo\")"
   ]
  },
  {
   "cell_type": "markdown",
   "id": "f7813f98",
   "metadata": {},
   "source": [
    "### Get Object w/ ETL Transformation"
   ]
  },
  {
   "cell_type": "code",
   "execution_count": null,
   "id": "aeb15852",
   "metadata": {},
   "outputs": [],
   "source": [
    "import random\n",
    "import string\n",
    "import tempfile\n",
    "\n",
    "\n",
    "def create_and_put_object(\n",
    "    client: Client,\n",
    "    bck_name: str,\n",
    "    obj_name: str,\n",
    "    provider: str = \"ais\",\n",
    "    obj_size: int = 0,\n",
    "):\n",
    "    obj_size = obj_size if obj_size else random.randrange(10, 20)\n",
    "    obj_body = \"\".join(random.choices(string.ascii_letters, k=obj_size))\n",
    "    content = obj_body.encode(\"utf-8\")\n",
    "    with tempfile.NamedTemporaryFile() as file:\n",
    "        file.write(content)\n",
    "        file.flush()\n",
    "        client.bucket(bck_name, provider=provider).object(obj_name).put(file.name)\n",
    "    return content"
   ]
  },
  {
   "cell_type": "code",
   "execution_count": null,
   "id": "56256969",
   "metadata": {},
   "outputs": [],
   "source": [
    "client.bucket(bck_name=BUCKET_NAME).create()\n",
    "content = create_and_put_object(\n",
    "    client=client, bck_name=BUCKET_NAME, obj_name=\"object-demo.jpg\"\n",
    ")"
   ]
  },
  {
   "cell_type": "code",
   "execution_count": null,
   "id": "44cb809c",
   "metadata": {},
   "outputs": [],
   "source": [
    "# Get object w/ ETL code transformation\n",
    "client.bucket(BUCKET_NAME).object(\"object-demo.jpg\").get(\n",
    "    etl_name=\"etl-code-demo\"\n",
    ").read_all()"
   ]
  },
  {
   "cell_type": "code",
   "execution_count": null,
   "id": "3c485bf1",
   "metadata": {},
   "outputs": [],
   "source": [
    "# Get object w/ ETL spec transformation\n",
    "client.bucket(BUCKET_NAME).object(\"object-demo.jpg\").get(\n",
    "    etl_name=\"etl-spec-demo\"\n",
    ").read_all()"
   ]
  },
  {
   "cell_type": "markdown",
   "id": "52656fc1",
   "metadata": {},
   "source": [
    "### Transform Bucket w/ ETL Transformation"
   ]
  },
  {
   "cell_type": "code",
   "execution_count": null,
   "id": "6760478f",
   "metadata": {},
   "outputs": [],
   "source": [
    "# Create bucket to store transformed objects\n",
    "client.bucket(\"transform-destination-bucket\").create()\n",
    "\n",
    "# Transform bucket contents (w/ on-the-fly object renames)\n",
    "client.bucket(BUCKET_NAME).transform(\n",
    "    etl_name=\"etl-spec-demo\",\n",
    "    to_bck=\"transform-destination-bucket\",\n",
    "    prepend=\"transformed-\",\n",
    "    ext={\"jpg\": \"txt\"},\n",
    ")"
   ]
  },
  {
   "cell_type": "code",
   "execution_count": null,
   "id": "db8ccf1a",
   "metadata": {},
   "outputs": [],
   "source": [
    "# Verify rename operations for transformed objects\n",
    "client.bucket(\"transform-destination-bucket\").list_objects().get_entries()"
   ]
  },
  {
   "cell_type": "markdown",
   "id": "a1a2e8ae",
   "metadata": {},
   "source": [
    "### Stop ETLs"
   ]
  },
  {
   "cell_type": "code",
   "execution_count": null,
   "id": "b7ab064f",
   "metadata": {},
   "outputs": [],
   "source": [
    "client.etl().stop(etl_name=\"etl-code-demo\")\n",
    "client.etl().stop(etl_name=\"etl-spec-demo\")"
   ]
  },
  {
   "cell_type": "markdown",
   "id": "9beb3d0f",
   "metadata": {},
   "source": [
    "### Restart Stopped ETLs"
   ]
  },
  {
   "cell_type": "code",
   "execution_count": null,
   "id": "cea3c373",
   "metadata": {},
   "outputs": [],
   "source": [
    "client.etl().start(etl_name=\"etl-code-demo\")\n",
    "client.etl().start(etl_name=\"etl-spec-demo\")"
   ]
  },
  {
   "cell_type": "markdown",
   "id": "e1fb0a93",
   "metadata": {},
   "source": [
    "### Stop & Delete ETLs"
   ]
  },
  {
   "cell_type": "code",
   "execution_count": null,
   "id": "bc33c20e",
   "metadata": {},
   "outputs": [],
   "source": [
    "client.etl().stop(etl_name=\"etl-code-demo\")\n",
    "client.etl().stop(etl_name=\"etl-spec-demo\")\n",
    "\n",
    "client.etl().delete(etl_name=\"etl-code-demo\")\n",
    "client.etl().delete(etl_name=\"etl-spec-demo\")"
   ]
  },
  {
   "cell_type": "markdown",
   "id": "7aaf1c52",
   "metadata": {},
   "source": [
    "### Starting Deleted ETL Raises Exception"
   ]
  },
  {
   "cell_type": "code",
   "execution_count": null,
   "id": "cf2a938a",
   "metadata": {},
   "outputs": [],
   "source": [
    "client.etl().start(etl_name=\"etl-code-demo\")"
   ]
  },
  {
   "cell_type": "code",
   "execution_count": null,
   "id": "02fa415c",
   "metadata": {},
   "outputs": [],
   "source": [
    "client.etl().start(etl_name=\"etl-spec-demo\")"
   ]
  },
  {
   "cell_type": "markdown",
   "id": "278ecb98",
   "metadata": {},
   "source": [
    "### Initialize ETL XOR+Checksum with streaming data"
   ]
  },
  {
   "cell_type": "code",
   "execution_count": null,
   "id": "97214ac4",
   "metadata": {},
   "outputs": [],
   "source": [
    "content = create_and_put_object(\n",
    "    client=client, bck_name=BUCKET_NAME, obj_name=\"object-xor-demo.jpg\", obj_size=256\n",
    ")"
   ]
  },
  {
   "cell_type": "code",
   "execution_count": null,
   "id": "92cce61e",
   "metadata": {},
   "outputs": [],
   "source": [
    "def transform(reader, writer):\n",
    "    checksum = hashlib.md5()\n",
    "    key = b\"AISTORE\"\n",
    "    for b in reader:\n",
    "        out = bytes([_a ^ _b for _a, _b in zip(b, cycle(key))])\n",
    "        writer.write(out)\n",
    "        checksum.update(out)\n",
    "    writer.write(checksum.hexdigest().encode())\n",
    "\n",
    "\n",
    "client.etl().init_code(\n",
    "    transform=transform,\n",
    "    etl_name=\"xor-md5-stream\",\n",
    "    chunk_size=32,\n",
    ")"
   ]
  },
  {
   "cell_type": "code",
   "execution_count": null,
   "id": "bf6adb91",
   "metadata": {},
   "outputs": [],
   "source": [
    "# Get object w/ XOR+Checksum ETL and verify checksum\n",
    "xor_obj = (\n",
    "    client.bucket(BUCKET_NAME)\n",
    "    .object(\"object-xor-demo.jpg\")\n",
    "    .get(etl_name=\"xor-md5-stream\")\n",
    "    .read_all()\n",
    ")\n",
    "data, checksum = xor_obj[:-32], xor_obj[-32:]\n",
    "computed_checksum = hashlib.md5(data).hexdigest().encode()\n",
    "computed_checksum == checksum"
   ]
  },
  {
   "cell_type": "code",
   "execution_count": null,
   "id": "23ac67da",
   "metadata": {},
   "outputs": [],
   "source": [
    "client.etl().stop(etl_name=\"xor-md5-stream\")\n",
    "client.etl().delete(etl_name=\"xor-md5-stream\")"
   ]
  },
  {
   "cell_type": "code",
   "execution_count": null,
   "id": "df22f16c",
   "metadata": {},
   "outputs": [],
   "source": [
    "# Cleanup buckets\n",
    "for bucket in client.cluster().list_buckets():\n",
    "    client.bucket(bucket.name).delete()"
   ]
  },
  {
   "cell_type": "code",
   "execution_count": null,
   "id": "7a4bf411",
   "metadata": {},
   "outputs": [],
   "source": []
  }
 ],
 "metadata": {
  "kernelspec": {
   "display_name": "Python 3 (ipykernel)",
   "language": "python",
   "name": "python3"
  },
  "language_info": {
   "codemirror_mode": {
    "name": "ipython",
    "version": 3
   },
   "file_extension": ".py",
   "mimetype": "text/x-python",
   "name": "python",
   "nbconvert_exporter": "python",
   "pygments_lexer": "ipython3",
   "version": "3.10.6 (main, Nov 14 2022, 16:10:14) [GCC 11.3.0]"
  },
  "vscode": {
   "interpreter": {
    "hash": "916dbcbb3f70747c44a77c7bcd40155683ae19c65e1c03b4aa3499c5328201f1"
   }
  }
 },
 "nbformat": 4,
 "nbformat_minor": 5
}
