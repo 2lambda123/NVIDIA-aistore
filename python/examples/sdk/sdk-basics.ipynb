{
 "cells": [
  {
   "cell_type": "markdown",
   "id": "e616503b",
   "metadata": {},
   "source": [
    "# General operations for the client and cluster\n"
   ]
  },
  {
   "cell_type": "markdown",
   "source": [
    "## Client Options"
   ],
   "metadata": {
    "collapsed": false
   }
  },
  {
   "cell_type": "code",
   "execution_count": null,
   "outputs": [],
   "source": [
    "pip install aistore"
   ],
   "metadata": {
    "collapsed": false
   }
  },
  {
   "cell_type": "code",
   "execution_count": null,
   "outputs": [],
   "source": [
    "from aistore import Client\n",
    "\n",
    "# Use the client class to access the AIS cluster:\n",
    "ais_url = \"http://localhost:8080\"\n",
    "client = Client(ais_url)"
   ],
   "metadata": {
    "collapsed": false
   }
  },
  {
   "cell_type": "markdown",
   "source": [
    "### The client provides access to all the sdk functionality"
   ],
   "metadata": {
    "collapsed": false
   }
  },
  {
   "cell_type": "code",
   "execution_count": null,
   "outputs": [],
   "source": [
    "# All operations on buckets and objects inside\n",
    "client.bucket(\"bucket-name\")\n",
    "# For interacting with the AIS cluster\n",
    "client.cluster()\n",
    "# For starting, waiting on, and querying async jobs\n",
    "client.job()\n",
    "# For creating ETL jobs\n",
    "client.etl()"
   ],
   "metadata": {
    "collapsed": false
   }
  },
  {
   "cell_type": "markdown",
   "source": [
    "## Cluster operations"
   ],
   "metadata": {
    "collapsed": false
   }
  },
  {
   "cell_type": "markdown",
   "source": [
    "### Check if aistore is running"
   ],
   "metadata": {
    "collapsed": false
   }
  },
  {
   "cell_type": "code",
   "execution_count": null,
   "outputs": [],
   "source": [
    "client.cluster().is_aistore_running()"
   ],
   "metadata": {
    "collapsed": false
   }
  },
  {
   "cell_type": "markdown",
   "source": [
    "### View cluster info"
   ],
   "metadata": {
    "collapsed": false
   }
  },
  {
   "cell_type": "code",
   "execution_count": null,
   "outputs": [],
   "source": [
    "client.cluster().get_info().dict()"
   ],
   "metadata": {
    "collapsed": false
   }
  },
  {
   "cell_type": "markdown",
   "source": [
    "### List all buckets in the cluster"
   ],
   "metadata": {
    "collapsed": false
   }
  },
  {
   "cell_type": "code",
   "execution_count": null,
   "outputs": [],
   "source": [
    "client.cluster().list_buckets()"
   ],
   "metadata": {
    "collapsed": false
   }
  },
  {
   "cell_type": "markdown",
   "source": [
    "## Working with jobs\n",
    "\n",
    "Some intensive actions run asynchronously from the sdk calls and will instead return a job id. This job id can be used to check the status and wait on the job if needed."
   ],
   "metadata": {
    "collapsed": false
   }
  },
  {
   "cell_type": "code",
   "execution_count": null,
   "outputs": [],
   "source": [
    "first_bck = client.bucket(\"my-first-bck\")\n",
    "first_bck.create()\n",
    "# Returns the id of the job\n",
    "rename_job_id = first_bck.rename(\"new-bck\")\n",
    "rename_job = client.job(rename_job_id)\n",
    "# Check status\n",
    "rename_job.status()\n",
    "# Wait until job is finished\n",
    "rename_job.wait()"
   ],
   "metadata": {
    "collapsed": false
   }
  },
  {
   "cell_type": "markdown",
   "source": [
    "### Querying jobs\n",
    "You can also query the status of multiple jobs, filtered by the running cluster node or running status"
   ],
   "metadata": {
    "collapsed": false
   }
  },
  {
   "cell_type": "code",
   "execution_count": null,
   "outputs": [],
   "source": [
    "# View status of all currently running jobs\n",
    "client.job().status(only_running=True)\n",
    "# View status of jobs only on a certain node\n",
    "# client.job().status(daemon_id=\"your target node\")"
   ],
   "metadata": {
    "collapsed": false
   }
  }
 ],
 "metadata": {
  "kernelspec": {
   "display_name": "Python 3.10.4 64-bit",
   "language": "python",
   "name": "python3"
  },
  "language_info": {
   "codemirror_mode": {
    "name": "ipython",
    "version": 3
   },
   "file_extension": ".py",
   "mimetype": "text/x-python",
   "name": "python",
   "nbconvert_exporter": "python",
   "pygments_lexer": "ipython3",
   "version": "3.10.4"
  },
  "vscode": {
   "interpreter": {
    "hash": "916dbcbb3f70747c44a77c7bcd40155683ae19c65e1c03b4aa3499c5328201f1"
   }
  }
 },
 "nbformat": 4,
 "nbformat_minor": 5
}
