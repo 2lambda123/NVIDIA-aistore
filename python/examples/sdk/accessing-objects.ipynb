{
 "cells": [
  {
   "cell_type": "markdown",
   "source": [
    "## Accessing AIStore objects with the SDK"
   ],
   "metadata": {
    "collapsed": false
   }
  },
  {
   "cell_type": "code",
   "execution_count": null,
   "outputs": [],
   "source": [
    "pip install aistore"
   ],
   "metadata": {
    "collapsed": false
   }
  },
  {
   "cell_type": "markdown",
   "source": [
    "### Use the client class to get a reference to a named bucket:"
   ],
   "metadata": {
    "collapsed": false
   }
  },
  {
   "cell_type": "code",
   "execution_count": null,
   "outputs": [],
   "source": [
    "from aistore import Client\n",
    "from pathlib import Path\n",
    "\n",
    "ais_url = \"http://localhost:8080\"\n",
    "client = Client(ais_url)\n",
    "bucket = client.bucket(\"my-bck\")"
   ],
   "metadata": {
    "collapsed": false
   }
  },
  {
   "cell_type": "markdown",
   "source": [
    "### First, create a few objects"
   ],
   "metadata": {
    "collapsed": false
   }
  },
  {
   "cell_type": "code",
   "execution_count": null,
   "outputs": [],
   "source": [
    "object_names = [f\"example_obj_{i}\" for i in range(10)]\n",
    "for name in object_names:\n",
    "    bucket.object(name).put_content(b\"object content\")\n",
    "# Create one with a different prefix\n",
    "bucket.object(\"prefix-example\").put_content(b\"prefixed object content\")"
   ],
   "metadata": {
    "collapsed": false
   }
  },
  {
   "cell_type": "markdown",
   "source": [
    "## There are 3 ways to list the objects inside a bucket\n",
    "1. list_objects provides a page of objects and the data to get the next page\n",
    "2. list_objects_iter returns an iterator over all objects\n",
    "3. list_all_objects returns a single list of all objects (calling list_objects until exhausted)"
   ],
   "metadata": {
    "collapsed": false
   }
  },
  {
   "cell_type": "markdown",
   "source": [
    "### list_objects"
   ],
   "metadata": {
    "collapsed": false
   }
  },
  {
   "cell_type": "code",
   "execution_count": null,
   "outputs": [],
   "source": [
    "objects = []\n",
    "response = bucket.list_objects(page_size=3)\n",
    "objects.extend(response.entries)\n",
    "# Use the info from the previous response to get the next page of objects\n",
    "bucket.list_objects(\n",
    "    uuid=response.uuid, continuation_token=response.continuation_token, page_size=3\n",
    ")\n",
    "objects.extend(response.entries)\n",
    "# Now we should have the first 2 pages of size 3 each\n",
    "print(objects)\n",
    "print(\"Total number of objects:\", len(objects))"
   ],
   "metadata": {
    "collapsed": false
   }
  },
  {
   "cell_type": "markdown",
   "source": [
    "### list_objects_iter"
   ],
   "metadata": {
    "collapsed": false
   }
  },
  {
   "cell_type": "code",
   "execution_count": null,
   "outputs": [],
   "source": [
    "iterator = bucket.list_objects_iter(prefix=\"example_\", props=\"name,size,copies\")\n",
    "for bucket_entry in iterator:\n",
    "    print(bucket_entry)"
   ],
   "metadata": {
    "collapsed": false
   }
  },
  {
   "cell_type": "markdown",
   "source": [
    "### list_all_objects"
   ],
   "metadata": {
    "collapsed": false
   }
  },
  {
   "cell_type": "code",
   "execution_count": null,
   "outputs": [],
   "source": [
    "bucket.list_all_objects(prefix=\"example_\")"
   ],
   "metadata": {
    "collapsed": false
   }
  },
  {
   "cell_type": "markdown",
   "source": [
    "## Call head() on an object to view properties"
   ],
   "metadata": {
    "collapsed": false
   }
  },
  {
   "cell_type": "code",
   "execution_count": null,
   "outputs": [],
   "source": [
    "bucket.object(object_names[0]).head()"
   ],
   "metadata": {
    "collapsed": false
   }
  },
  {
   "cell_type": "markdown",
   "source": [
    "## Object.get returns an ObjStream reader with a few ways to access the data"
   ],
   "metadata": {
    "collapsed": false
   }
  },
  {
   "cell_type": "code",
   "execution_count": null,
   "outputs": [],
   "source": [
    "stream = bucket.object(object_names[0]).get()\n",
    "print(\"Read all from the stream:\", stream.read_all())\n",
    "print(\"Raw response:\", stream.raw())"
   ],
   "metadata": {
    "collapsed": false
   }
  },
  {
   "cell_type": "markdown",
   "source": [
    "### For larger objects, you can read in chunks"
   ],
   "metadata": {
    "collapsed": false
   }
  },
  {
   "cell_type": "code",
   "execution_count": null,
   "outputs": [],
   "source": [
    "print(\"Chunks:\")\n",
    "for chunk in bucket.object(object_names[0]).get(chunk_size=3):\n",
    "    print(chunk)"
   ],
   "metadata": {
    "collapsed": false
   }
  },
  {
   "cell_type": "markdown",
   "source": [
    "### Or you can provide your own writer"
   ],
   "metadata": {
    "collapsed": false
   }
  },
  {
   "cell_type": "code",
   "execution_count": null,
   "outputs": [],
   "source": [
    "# Pass a writer that appends to a file\n",
    "filename = Path().absolute().joinpath(\"example-obj-writer\")\n",
    "with open(filename, \"ab\") as writer:\n",
    "    bucket.object(object_names[0]).get(writer=writer)\n",
    "\n",
    "# Read from the file to see the output\n",
    "with open(filename, \"rb\") as reader:\n",
    "    print(reader.read())\n",
    "\n",
    "filename.unlink()"
   ],
   "metadata": {
    "collapsed": false
   }
  },
  {
   "cell_type": "markdown",
   "source": [
    "## Working with multiple objects\n",
    "AIS supports multi-object operations on groups of objects. An `ObjectGroup` can be created with one of:\n",
    "- a list of object names\n",
    "- an [ObjectRange](https://github.com/NVIDIA/aistore/blob/master/python/aistore/sdk/object_range.py)\n",
    "- a string template."
   ],
   "metadata": {
    "collapsed": false
   }
  },
  {
   "cell_type": "markdown",
   "source": [
    "### Create Object Group by list of names"
   ],
   "metadata": {
    "collapsed": false
   }
  },
  {
   "cell_type": "code",
   "execution_count": null,
   "outputs": [],
   "source": [
    "my_objects = client.bucket(\"my-ais-bucket\").objects(obj_names=object_names)"
   ],
   "metadata": {
    "collapsed": false
   }
  },
  {
   "cell_type": "markdown",
   "source": [
    "### Create Object Group by ObjectRange"
   ],
   "metadata": {
    "collapsed": false
   }
  },
  {
   "cell_type": "code",
   "execution_count": null,
   "outputs": [],
   "source": [
    "from aistore.sdk.object_range import ObjectRange\n",
    "\n",
    "my_object_range = ObjectRange(prefix=\"example_obj_\", min_index=1, max_index=3)\n",
    "my_objects = client.bucket(\"my-ais-bucket\").objects(obj_range=my_object_range)"
   ],
   "metadata": {
    "collapsed": false
   }
  },
  {
   "cell_type": "markdown",
   "source": [
    "### Create Object Group by Template String\n",
    "String templates can be passed directly to AIS following the [syntax described here](https://github.com/NVIDIA/aistore/blob/master/docs/batch.md#operations-on-multiple-selected-objects)"
   ],
   "metadata": {
    "collapsed": false
   }
  },
  {
   "cell_type": "code",
   "execution_count": null,
   "outputs": [],
   "source": [
    "# Equivalent to the range above\n",
    "my_object_template = \"example_obj_{1..3}\"\n",
    "my_objects = bucket.objects(obj_template=my_object_template)\n",
    "# More advanced template example with multiple ranges and defined steps\n",
    "complex_range = \"example_obj_{0..10..2}_details_{1..9..2}.file-extension\""
   ],
   "metadata": {
    "collapsed": false
   }
  },
  {
   "cell_type": "markdown",
   "source": [
    "### Prefetch, Evict, and Delete with multiple Objects"
   ],
   "metadata": {
    "collapsed": false
   }
  },
  {
   "cell_type": "code",
   "execution_count": null,
   "outputs": [],
   "source": [
    "# Prefetch and Evict only work for cloud backends\n",
    "my_objects.prefetch()\n",
    "my_objects.evict()"
   ],
   "metadata": {
    "collapsed": false
   }
  },
  {
   "cell_type": "code",
   "execution_count": null,
   "outputs": [],
   "source": [
    "delete_job_id = my_objects.delete()\n",
    "client.job(delete_job_id).wait()"
   ],
   "metadata": {
    "collapsed": false
   }
  }
 ],
 "metadata": {
  "kernelspec": {
   "display_name": "Python 3",
   "language": "python",
   "name": "python3"
  },
  "language_info": {
   "codemirror_mode": {
    "name": "ipython",
    "version": 2
   },
   "file_extension": ".py",
   "mimetype": "text/x-python",
   "name": "python",
   "nbconvert_exporter": "python",
   "pygments_lexer": "ipython2",
   "version": "2.7.6"
  }
 },
 "nbformat": 4,
 "nbformat_minor": 0
}
